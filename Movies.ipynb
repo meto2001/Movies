{
 "cells": [
  {
   "cell_type": "code",
   "execution_count": 1,
   "id": "53b2e9d3",
   "metadata": {},
   "outputs": [],
   "source": [
    "import pandas as pd\n",
    "import numpy as np\n",
    "from matplotlib import pyplot as plt\n",
    "import seaborn as sns\n",
    "import datetime as dt\n",
    "import warnings\n",
    "warnings.filterwarnings(\"ignore\")"
   ]
  },
  {
   "cell_type": "code",
   "execution_count": 2,
   "id": "c297bf6d",
   "metadata": {},
   "outputs": [],
   "source": [
    "data = pd.read_csv(r\"C:\\Users\\N V\\Desktop\\movies.csv\",lineterminator= '\\n')"
   ]
  },
  {
   "cell_type": "code",
   "execution_count": 3,
   "id": "d9fd9387",
   "metadata": {},
   "outputs": [
    {
     "data": {
      "text/html": [
       "<div>\n",
       "<style scoped>\n",
       "    .dataframe tbody tr th:only-of-type {\n",
       "        vertical-align: middle;\n",
       "    }\n",
       "\n",
       "    .dataframe tbody tr th {\n",
       "        vertical-align: top;\n",
       "    }\n",
       "\n",
       "    .dataframe thead th {\n",
       "        text-align: right;\n",
       "    }\n",
       "</style>\n",
       "<table border=\"1\" class=\"dataframe\">\n",
       "  <thead>\n",
       "    <tr style=\"text-align: right;\">\n",
       "      <th></th>\n",
       "      <th>Release_Date</th>\n",
       "      <th>Title</th>\n",
       "      <th>Overview</th>\n",
       "      <th>Popularity</th>\n",
       "      <th>Vote_Count</th>\n",
       "      <th>Vote_Average</th>\n",
       "      <th>Original_Language</th>\n",
       "      <th>Genre</th>\n",
       "      <th>Poster_Url</th>\n",
       "    </tr>\n",
       "  </thead>\n",
       "  <tbody>\n",
       "    <tr>\n",
       "      <th>0</th>\n",
       "      <td>2021-12-15</td>\n",
       "      <td>Spider-Man: No Way Home</td>\n",
       "      <td>Peter Parker is unmasked and no longer able to...</td>\n",
       "      <td>5083.954</td>\n",
       "      <td>8940</td>\n",
       "      <td>8.3</td>\n",
       "      <td>en</td>\n",
       "      <td>Action, Adventure, Science Fiction</td>\n",
       "      <td>https://image.tmdb.org/t/p/original/1g0dhYtq4i...</td>\n",
       "    </tr>\n",
       "    <tr>\n",
       "      <th>1</th>\n",
       "      <td>2022-03-01</td>\n",
       "      <td>The Batman</td>\n",
       "      <td>In his second year of fighting crime, Batman u...</td>\n",
       "      <td>3827.658</td>\n",
       "      <td>1151</td>\n",
       "      <td>8.1</td>\n",
       "      <td>en</td>\n",
       "      <td>Crime, Mystery, Thriller</td>\n",
       "      <td>https://image.tmdb.org/t/p/original/74xTEgt7R3...</td>\n",
       "    </tr>\n",
       "    <tr>\n",
       "      <th>2</th>\n",
       "      <td>2022-02-25</td>\n",
       "      <td>No Exit</td>\n",
       "      <td>Stranded at a rest stop in the mountains durin...</td>\n",
       "      <td>2618.087</td>\n",
       "      <td>122</td>\n",
       "      <td>6.3</td>\n",
       "      <td>en</td>\n",
       "      <td>Thriller</td>\n",
       "      <td>https://image.tmdb.org/t/p/original/vDHsLnOWKl...</td>\n",
       "    </tr>\n",
       "    <tr>\n",
       "      <th>3</th>\n",
       "      <td>2021-11-24</td>\n",
       "      <td>Encanto</td>\n",
       "      <td>The tale of an extraordinary family, the Madri...</td>\n",
       "      <td>2402.201</td>\n",
       "      <td>5076</td>\n",
       "      <td>7.7</td>\n",
       "      <td>en</td>\n",
       "      <td>Animation, Comedy, Family, Fantasy</td>\n",
       "      <td>https://image.tmdb.org/t/p/original/4j0PNHkMr5...</td>\n",
       "    </tr>\n",
       "    <tr>\n",
       "      <th>4</th>\n",
       "      <td>2021-12-22</td>\n",
       "      <td>The King's Man</td>\n",
       "      <td>As a collection of history's worst tyrants and...</td>\n",
       "      <td>1895.511</td>\n",
       "      <td>1793</td>\n",
       "      <td>7.0</td>\n",
       "      <td>en</td>\n",
       "      <td>Action, Adventure, Thriller, War</td>\n",
       "      <td>https://image.tmdb.org/t/p/original/aq4Pwv5Xeu...</td>\n",
       "    </tr>\n",
       "  </tbody>\n",
       "</table>\n",
       "</div>"
      ],
      "text/plain": [
       "  Release_Date                    Title  \\\n",
       "0   2021-12-15  Spider-Man: No Way Home   \n",
       "1   2022-03-01               The Batman   \n",
       "2   2022-02-25                  No Exit   \n",
       "3   2021-11-24                  Encanto   \n",
       "4   2021-12-22           The King's Man   \n",
       "\n",
       "                                            Overview  Popularity  Vote_Count  \\\n",
       "0  Peter Parker is unmasked and no longer able to...    5083.954        8940   \n",
       "1  In his second year of fighting crime, Batman u...    3827.658        1151   \n",
       "2  Stranded at a rest stop in the mountains durin...    2618.087         122   \n",
       "3  The tale of an extraordinary family, the Madri...    2402.201        5076   \n",
       "4  As a collection of history's worst tyrants and...    1895.511        1793   \n",
       "\n",
       "   Vote_Average Original_Language                               Genre  \\\n",
       "0           8.3                en  Action, Adventure, Science Fiction   \n",
       "1           8.1                en            Crime, Mystery, Thriller   \n",
       "2           6.3                en                            Thriller   \n",
       "3           7.7                en  Animation, Comedy, Family, Fantasy   \n",
       "4           7.0                en    Action, Adventure, Thriller, War   \n",
       "\n",
       "                                          Poster_Url  \n",
       "0  https://image.tmdb.org/t/p/original/1g0dhYtq4i...  \n",
       "1  https://image.tmdb.org/t/p/original/74xTEgt7R3...  \n",
       "2  https://image.tmdb.org/t/p/original/vDHsLnOWKl...  \n",
       "3  https://image.tmdb.org/t/p/original/4j0PNHkMr5...  \n",
       "4  https://image.tmdb.org/t/p/original/aq4Pwv5Xeu...  "
      ]
     },
     "execution_count": 3,
     "metadata": {},
     "output_type": "execute_result"
    }
   ],
   "source": [
    "data.head()"
   ]
  },
  {
   "cell_type": "code",
   "execution_count": 4,
   "id": "6c42e35c",
   "metadata": {},
   "outputs": [
    {
     "name": "stdout",
     "output_type": "stream",
     "text": [
      "<class 'pandas.core.frame.DataFrame'>\n",
      "RangeIndex: 9827 entries, 0 to 9826\n",
      "Data columns (total 9 columns):\n",
      " #   Column             Non-Null Count  Dtype  \n",
      "---  ------             --------------  -----  \n",
      " 0   Release_Date       9827 non-null   object \n",
      " 1   Title              9827 non-null   object \n",
      " 2   Overview           9827 non-null   object \n",
      " 3   Popularity         9827 non-null   float64\n",
      " 4   Vote_Count         9827 non-null   int64  \n",
      " 5   Vote_Average       9827 non-null   float64\n",
      " 6   Original_Language  9827 non-null   object \n",
      " 7   Genre              9827 non-null   object \n",
      " 8   Poster_Url         9827 non-null   object \n",
      "dtypes: float64(2), int64(1), object(6)\n",
      "memory usage: 691.1+ KB\n"
     ]
    }
   ],
   "source": [
    "data.info()"
   ]
  },
  {
   "cell_type": "code",
   "execution_count": 5,
   "id": "924c47c4",
   "metadata": {},
   "outputs": [],
   "source": [
    "data['Original_Language'] = data['Original_Language'].astype(\"category\")"
   ]
  },
  {
   "cell_type": "code",
   "execution_count": 6,
   "id": "cf955d7b",
   "metadata": {},
   "outputs": [],
   "source": [
    "data['Release_Date'] = pd.to_datetime(data['Release_Date'] , infer_datetime_format= True, errors = 'coerce')"
   ]
  },
  {
   "cell_type": "code",
   "execution_count": 7,
   "id": "1c48f8bf",
   "metadata": {},
   "outputs": [
    {
     "data": {
      "text/plain": [
       "count                    9827\n",
       "unique                   5893\n",
       "top       2022-03-10 00:00:00\n",
       "freq                       16\n",
       "first     1902-04-17 00:00:00\n",
       "last      2024-07-03 00:00:00\n",
       "Name: Release_Date, dtype: object"
      ]
     },
     "execution_count": 7,
     "metadata": {},
     "output_type": "execute_result"
    }
   ],
   "source": [
    "data['Release_Date'].describe()"
   ]
  },
  {
   "cell_type": "code",
   "execution_count": 8,
   "id": "1071145b",
   "metadata": {},
   "outputs": [],
   "source": [
    "today_date = dt.date.today()\n",
    "data = data[data['Release_Date'] < pd.to_datetime(today_date)]"
   ]
  },
  {
   "cell_type": "code",
   "execution_count": 9,
   "id": "78bb809d",
   "metadata": {},
   "outputs": [
    {
     "data": {
      "text/plain": [
       "Timestamp('2022-03-25 00:00:00')"
      ]
     },
     "execution_count": 9,
     "metadata": {},
     "output_type": "execute_result"
    }
   ],
   "source": [
    "data['Release_Date'].max()"
   ]
  },
  {
   "cell_type": "code",
   "execution_count": 10,
   "id": "642b350c",
   "metadata": {},
   "outputs": [
    {
     "data": {
      "text/html": [
       "<div>\n",
       "<style scoped>\n",
       "    .dataframe tbody tr th:only-of-type {\n",
       "        vertical-align: middle;\n",
       "    }\n",
       "\n",
       "    .dataframe tbody tr th {\n",
       "        vertical-align: top;\n",
       "    }\n",
       "\n",
       "    .dataframe thead th {\n",
       "        text-align: right;\n",
       "    }\n",
       "</style>\n",
       "<table border=\"1\" class=\"dataframe\">\n",
       "  <thead>\n",
       "    <tr style=\"text-align: right;\">\n",
       "      <th></th>\n",
       "      <th>Release_Date</th>\n",
       "      <th>Title</th>\n",
       "      <th>Overview</th>\n",
       "      <th>Popularity</th>\n",
       "      <th>Vote_Count</th>\n",
       "      <th>Vote_Average</th>\n",
       "      <th>Original_Language</th>\n",
       "      <th>Genre</th>\n",
       "      <th>Poster_Url</th>\n",
       "    </tr>\n",
       "  </thead>\n",
       "  <tbody>\n",
       "    <tr>\n",
       "      <th>3270</th>\n",
       "      <td>2015-05-22</td>\n",
       "      <td>365 Days</td>\n",
       "      <td>This film tracks a hasty marriage through its ...</td>\n",
       "      <td>28.341</td>\n",
       "      <td>12</td>\n",
       "      <td>4.8</td>\n",
       "      <td>te</td>\n",
       "      <td>Romance</td>\n",
       "      <td>https://image.tmdb.org/t/p/original/AoFyZGDgfr...</td>\n",
       "    </tr>\n",
       "    <tr>\n",
       "      <th>1424</th>\n",
       "      <td>2020-02-07</td>\n",
       "      <td>365 Days</td>\n",
       "      <td>A woman falls victim to a dominant mafia boss,...</td>\n",
       "      <td>52.418</td>\n",
       "      <td>6540</td>\n",
       "      <td>7.0</td>\n",
       "      <td>pl</td>\n",
       "      <td>Drama, Romance</td>\n",
       "      <td>https://image.tmdb.org/t/p/original/6KwrHucIE3...</td>\n",
       "    </tr>\n",
       "    <tr>\n",
       "      <th>5993</th>\n",
       "      <td>1984-10-09</td>\n",
       "      <td>A Christmas Carol</td>\n",
       "      <td>A bitter old miser who makes excuses for his u...</td>\n",
       "      <td>18.546</td>\n",
       "      <td>241</td>\n",
       "      <td>7.3</td>\n",
       "      <td>en</td>\n",
       "      <td>Drama, Fantasy, TV Movie, Family</td>\n",
       "      <td>https://image.tmdb.org/t/p/original/kGmpIkjVRW...</td>\n",
       "    </tr>\n",
       "    <tr>\n",
       "      <th>2052</th>\n",
       "      <td>2009-11-04</td>\n",
       "      <td>A Christmas Carol</td>\n",
       "      <td>Miser Ebenezer Scrooge is awakened on Christma...</td>\n",
       "      <td>39.916</td>\n",
       "      <td>3732</td>\n",
       "      <td>6.9</td>\n",
       "      <td>en</td>\n",
       "      <td>Animation, Family, Drama, Fantasy</td>\n",
       "      <td>https://image.tmdb.org/t/p/original/goHDZUnqZJ...</td>\n",
       "    </tr>\n",
       "    <tr>\n",
       "      <th>2169</th>\n",
       "      <td>2010-04-30</td>\n",
       "      <td>A Nightmare on Elm Street</td>\n",
       "      <td>The film that brings back horror icon Freddy K...</td>\n",
       "      <td>38.399</td>\n",
       "      <td>2187</td>\n",
       "      <td>5.5</td>\n",
       "      <td>en</td>\n",
       "      <td>Horror, Mystery, Thriller</td>\n",
       "      <td>https://image.tmdb.org/t/p/original/4W2GvVM89X...</td>\n",
       "    </tr>\n",
       "    <tr>\n",
       "      <th>...</th>\n",
       "      <td>...</td>\n",
       "      <td>...</td>\n",
       "      <td>...</td>\n",
       "      <td>...</td>\n",
       "      <td>...</td>\n",
       "      <td>...</td>\n",
       "      <td>...</td>\n",
       "      <td>...</td>\n",
       "      <td>...</td>\n",
       "    </tr>\n",
       "    <tr>\n",
       "      <th>985</th>\n",
       "      <td>2003-05-30</td>\n",
       "      <td>Wrong Turn</td>\n",
       "      <td>Chris crashes into a carload of other young pe...</td>\n",
       "      <td>66.173</td>\n",
       "      <td>1978</td>\n",
       "      <td>6.3</td>\n",
       "      <td>en</td>\n",
       "      <td>Horror, Thriller</td>\n",
       "      <td>https://image.tmdb.org/t/p/original/ixBGcbQKvl...</td>\n",
       "    </tr>\n",
       "    <tr>\n",
       "      <th>8978</th>\n",
       "      <td>2011-09-09</td>\n",
       "      <td>Wuthering Heights</td>\n",
       "      <td>Yorkshire moorlands, northern England, in the ...</td>\n",
       "      <td>14.157</td>\n",
       "      <td>182</td>\n",
       "      <td>5.9</td>\n",
       "      <td>en</td>\n",
       "      <td>Drama, Romance</td>\n",
       "      <td>https://image.tmdb.org/t/p/original/7gEcoCve3l...</td>\n",
       "    </tr>\n",
       "    <tr>\n",
       "      <th>7409</th>\n",
       "      <td>1939-04-07</td>\n",
       "      <td>Wuthering Heights</td>\n",
       "      <td>The Earnshaws are Yorkshire farmers during the...</td>\n",
       "      <td>16.080</td>\n",
       "      <td>189</td>\n",
       "      <td>7.3</td>\n",
       "      <td>en</td>\n",
       "      <td>Drama, Romance</td>\n",
       "      <td>https://image.tmdb.org/t/p/original/tA3ZaItWqh...</td>\n",
       "    </tr>\n",
       "    <tr>\n",
       "      <th>1887</th>\n",
       "      <td>2020-07-24</td>\n",
       "      <td>Yes, God, Yes</td>\n",
       "      <td>Alice, a young innocent Catholic girl, is temp...</td>\n",
       "      <td>42.470</td>\n",
       "      <td>353</td>\n",
       "      <td>6.4</td>\n",
       "      <td>en</td>\n",
       "      <td>Comedy, Drama</td>\n",
       "      <td>https://image.tmdb.org/t/p/original/69SYznq2mS...</td>\n",
       "    </tr>\n",
       "    <tr>\n",
       "      <th>4001</th>\n",
       "      <td>2017-04-23</td>\n",
       "      <td>Yes, God, Yes</td>\n",
       "      <td>Fifteen-year-old Alice has always been a good ...</td>\n",
       "      <td>24.487</td>\n",
       "      <td>62</td>\n",
       "      <td>6.0</td>\n",
       "      <td>en</td>\n",
       "      <td>Comedy, Drama</td>\n",
       "      <td>https://image.tmdb.org/t/p/original/ftR7yM9zfP...</td>\n",
       "    </tr>\n",
       "  </tbody>\n",
       "</table>\n",
       "<p>601 rows × 9 columns</p>\n",
       "</div>"
      ],
      "text/plain": [
       "     Release_Date                      Title  \\\n",
       "3270   2015-05-22                   365 Days   \n",
       "1424   2020-02-07                   365 Days   \n",
       "5993   1984-10-09          A Christmas Carol   \n",
       "2052   2009-11-04          A Christmas Carol   \n",
       "2169   2010-04-30  A Nightmare on Elm Street   \n",
       "...           ...                        ...   \n",
       "985    2003-05-30                 Wrong Turn   \n",
       "8978   2011-09-09          Wuthering Heights   \n",
       "7409   1939-04-07          Wuthering Heights   \n",
       "1887   2020-07-24              Yes, God, Yes   \n",
       "4001   2017-04-23              Yes, God, Yes   \n",
       "\n",
       "                                               Overview  Popularity  \\\n",
       "3270  This film tracks a hasty marriage through its ...      28.341   \n",
       "1424  A woman falls victim to a dominant mafia boss,...      52.418   \n",
       "5993  A bitter old miser who makes excuses for his u...      18.546   \n",
       "2052  Miser Ebenezer Scrooge is awakened on Christma...      39.916   \n",
       "2169  The film that brings back horror icon Freddy K...      38.399   \n",
       "...                                                 ...         ...   \n",
       "985   Chris crashes into a carload of other young pe...      66.173   \n",
       "8978  Yorkshire moorlands, northern England, in the ...      14.157   \n",
       "7409  The Earnshaws are Yorkshire farmers during the...      16.080   \n",
       "1887  Alice, a young innocent Catholic girl, is temp...      42.470   \n",
       "4001  Fifteen-year-old Alice has always been a good ...      24.487   \n",
       "\n",
       "      Vote_Count  Vote_Average Original_Language  \\\n",
       "3270          12           4.8                te   \n",
       "1424        6540           7.0                pl   \n",
       "5993         241           7.3                en   \n",
       "2052        3732           6.9                en   \n",
       "2169        2187           5.5                en   \n",
       "...          ...           ...               ...   \n",
       "985         1978           6.3                en   \n",
       "8978         182           5.9                en   \n",
       "7409         189           7.3                en   \n",
       "1887         353           6.4                en   \n",
       "4001          62           6.0                en   \n",
       "\n",
       "                                  Genre  \\\n",
       "3270                            Romance   \n",
       "1424                     Drama, Romance   \n",
       "5993   Drama, Fantasy, TV Movie, Family   \n",
       "2052  Animation, Family, Drama, Fantasy   \n",
       "2169          Horror, Mystery, Thriller   \n",
       "...                                 ...   \n",
       "985                    Horror, Thriller   \n",
       "8978                     Drama, Romance   \n",
       "7409                     Drama, Romance   \n",
       "1887                      Comedy, Drama   \n",
       "4001                      Comedy, Drama   \n",
       "\n",
       "                                             Poster_Url  \n",
       "3270  https://image.tmdb.org/t/p/original/AoFyZGDgfr...  \n",
       "1424  https://image.tmdb.org/t/p/original/6KwrHucIE3...  \n",
       "5993  https://image.tmdb.org/t/p/original/kGmpIkjVRW...  \n",
       "2052  https://image.tmdb.org/t/p/original/goHDZUnqZJ...  \n",
       "2169  https://image.tmdb.org/t/p/original/4W2GvVM89X...  \n",
       "...                                                 ...  \n",
       "985   https://image.tmdb.org/t/p/original/ixBGcbQKvl...  \n",
       "8978  https://image.tmdb.org/t/p/original/7gEcoCve3l...  \n",
       "7409  https://image.tmdb.org/t/p/original/tA3ZaItWqh...  \n",
       "1887  https://image.tmdb.org/t/p/original/69SYznq2mS...  \n",
       "4001  https://image.tmdb.org/t/p/original/ftR7yM9zfP...  \n",
       "\n",
       "[601 rows x 9 columns]"
      ]
     },
     "execution_count": 10,
     "metadata": {},
     "output_type": "execute_result"
    }
   ],
   "source": [
    "column_names = ['Title']\n",
    "duplicates = data.duplicated(subset = column_names,keep=False)\n",
    "data[duplicates].sort_values(by= 'Title')"
   ]
  },
  {
   "cell_type": "code",
   "execution_count": null,
   "id": "c57f4ccf",
   "metadata": {},
   "outputs": [],
   "source": []
  },
  {
   "cell_type": "markdown",
   "id": "9eb6f421",
   "metadata": {},
   "source": [
    "## Which year was the most movies released in?"
   ]
  },
  {
   "cell_type": "code",
   "execution_count": 11,
   "id": "7e8dabb6",
   "metadata": {},
   "outputs": [
    {
     "data": {
      "image/png": "[encoded data removed]",
      "text/plain": [
       "<Figure size 1800x1080 with 1 Axes>"
      ]
     },
     "metadata": {
      "needs_background": "light"
     },
     "output_type": "display_data"
    }
   ],
   "source": [
    "data['year'] = pd.DatetimeIndex(data['Release_Date']).year\n",
    "plt.figure(figsize=(25,15))\n",
    "sns.countplot(x=data['year'], order= data['year'].value_counts(ascending=False).index[:45], palette=\"crest\")\n",
    "plt.title(\"Movies released per year\",fontsize=20)\n",
    "plt.ylabel(\"Number of movies\",fontsize=15)\n",
    "plt.xlabel(\"Release Year\",fontsize=15)\n",
    "plt.xticks(rotation=90,fontsize=13);"
   ]
  },
  {
   "cell_type": "code",
   "execution_count": 12,
   "id": "8f699af1",
   "metadata": {},
   "outputs": [
    {
     "data": {
      "image/png": "[encoded data removed]",
      "text/plain": [
       "<Figure size 432x288 with 1 Axes>"
      ]
     },
     "metadata": {
      "needs_background": "light"
     },
     "output_type": "display_data"
    }
   ],
   "source": [
    "sns.kdeplot(data.year);"
   ]
  },
  {
   "cell_type": "markdown",
   "id": "dd419a40",
   "metadata": {},
   "source": [
    "### -2021 is the year the most movies was released in, with more than 700 movies."
   ]
  },
  {
   "cell_type": "raw",
   "id": "ddea1ad3",
   "metadata": {},
   "source": []
  },
  {
   "cell_type": "markdown",
   "id": "c0655099",
   "metadata": {},
   "source": [
    "## Which Months was the most movies released in?"
   ]
  },
  {
   "cell_type": "code",
   "execution_count": 13,
   "id": "3ecbe628",
   "metadata": {},
   "outputs": [
    {
     "data": {
      "image/png": "[encoded data removed]",
      "text/plain": [
       "<Figure size 1800x1080 with 1 Axes>"
      ]
     },
     "metadata": {
      "needs_background": "light"
     },
     "output_type": "display_data"
    }
   ],
   "source": [
    "data['month'] = pd.DatetimeIndex(data['Release_Date']).month\n",
    "month_index = data['month'].value_counts().index[:45]\n",
    "month_values = data['month'].value_counts().values[:45]\n",
    "plt.figure(figsize=(25,15))\n",
    "plt.xticks(fontsize=13)\n",
    "plt.ylabel(\"Number of movies\",fontsize=15)\n",
    "plt.xlabel(\"Release Month\",fontsize=15)\n",
    "plt.title(\"Movies released per month\",fontsize=20)\n",
    "sns.pointplot(x = month_index , y = month_values);"
   ]
  },
  {
   "cell_type": "code",
   "execution_count": 14,
   "id": "9db07480",
   "metadata": {},
   "outputs": [
    {
     "data": {
      "image/png": "[encoded data removed]",
      "text/plain": [
       "<Figure size 432x288 with 1 Axes>"
      ]
     },
     "metadata": {
      "needs_background": "light"
     },
     "output_type": "display_data"
    }
   ],
   "source": [
    "sns.kdeplot(data.month);"
   ]
  },
  {
   "cell_type": "markdown",
   "id": "fbbf60d4",
   "metadata": {},
   "source": [
    "### -Looks like Most movies are released at september and October."
   ]
  },
  {
   "cell_type": "code",
   "execution_count": null,
   "id": "5991fc58",
   "metadata": {},
   "outputs": [],
   "source": []
  },
  {
   "cell_type": "markdown",
   "id": "120360ed",
   "metadata": {},
   "source": [
    "## What is the Genre of most movies?"
   ]
  },
  {
   "cell_type": "code",
   "execution_count": 15,
   "id": "98328ef5",
   "metadata": {},
   "outputs": [],
   "source": [
    "data[\"Genre\"] = data[\"Genre\"].str.split(', ')"
   ]
  },
  {
   "cell_type": "code",
   "execution_count": 16,
   "id": "364cb255",
   "metadata": {},
   "outputs": [
    {
     "data": {
      "text/html": [
       "<div>\n",
       "<style scoped>\n",
       "    .dataframe tbody tr th:only-of-type {\n",
       "        vertical-align: middle;\n",
       "    }\n",
       "\n",
       "    .dataframe tbody tr th {\n",
       "        vertical-align: top;\n",
       "    }\n",
       "\n",
       "    .dataframe thead th {\n",
       "        text-align: right;\n",
       "    }\n",
       "</style>\n",
       "<table border=\"1\" class=\"dataframe\">\n",
       "  <thead>\n",
       "    <tr style=\"text-align: right;\">\n",
       "      <th></th>\n",
       "      <th>Release_Date</th>\n",
       "      <th>Title</th>\n",
       "      <th>Overview</th>\n",
       "      <th>Popularity</th>\n",
       "      <th>Vote_Count</th>\n",
       "      <th>Vote_Average</th>\n",
       "      <th>Original_Language</th>\n",
       "      <th>Genre</th>\n",
       "      <th>Poster_Url</th>\n",
       "      <th>year</th>\n",
       "      <th>month</th>\n",
       "    </tr>\n",
       "  </thead>\n",
       "  <tbody>\n",
       "    <tr>\n",
       "      <th>0</th>\n",
       "      <td>2021-12-15</td>\n",
       "      <td>Spider-Man: No Way Home</td>\n",
       "      <td>Peter Parker is unmasked and no longer able to...</td>\n",
       "      <td>5083.954</td>\n",
       "      <td>8940</td>\n",
       "      <td>8.3</td>\n",
       "      <td>en</td>\n",
       "      <td>Action</td>\n",
       "      <td>https://image.tmdb.org/t/p/original/1g0dhYtq4i...</td>\n",
       "      <td>2021</td>\n",
       "      <td>12</td>\n",
       "    </tr>\n",
       "    <tr>\n",
       "      <th>0</th>\n",
       "      <td>2021-12-15</td>\n",
       "      <td>Spider-Man: No Way Home</td>\n",
       "      <td>Peter Parker is unmasked and no longer able to...</td>\n",
       "      <td>5083.954</td>\n",
       "      <td>8940</td>\n",
       "      <td>8.3</td>\n",
       "      <td>en</td>\n",
       "      <td>Adventure</td>\n",
       "      <td>https://image.tmdb.org/t/p/original/1g0dhYtq4i...</td>\n",
       "      <td>2021</td>\n",
       "      <td>12</td>\n",
       "    </tr>\n",
       "    <tr>\n",
       "      <th>0</th>\n",
       "      <td>2021-12-15</td>\n",
       "      <td>Spider-Man: No Way Home</td>\n",
       "      <td>Peter Parker is unmasked and no longer able to...</td>\n",
       "      <td>5083.954</td>\n",
       "      <td>8940</td>\n",
       "      <td>8.3</td>\n",
       "      <td>en</td>\n",
       "      <td>Science Fiction</td>\n",
       "      <td>https://image.tmdb.org/t/p/original/1g0dhYtq4i...</td>\n",
       "      <td>2021</td>\n",
       "      <td>12</td>\n",
       "    </tr>\n",
       "    <tr>\n",
       "      <th>1</th>\n",
       "      <td>2022-03-01</td>\n",
       "      <td>The Batman</td>\n",
       "      <td>In his second year of fighting crime, Batman u...</td>\n",
       "      <td>3827.658</td>\n",
       "      <td>1151</td>\n",
       "      <td>8.1</td>\n",
       "      <td>en</td>\n",
       "      <td>Crime</td>\n",
       "      <td>https://image.tmdb.org/t/p/original/74xTEgt7R3...</td>\n",
       "      <td>2022</td>\n",
       "      <td>3</td>\n",
       "    </tr>\n",
       "    <tr>\n",
       "      <th>1</th>\n",
       "      <td>2022-03-01</td>\n",
       "      <td>The Batman</td>\n",
       "      <td>In his second year of fighting crime, Batman u...</td>\n",
       "      <td>3827.658</td>\n",
       "      <td>1151</td>\n",
       "      <td>8.1</td>\n",
       "      <td>en</td>\n",
       "      <td>Mystery</td>\n",
       "      <td>https://image.tmdb.org/t/p/original/74xTEgt7R3...</td>\n",
       "      <td>2022</td>\n",
       "      <td>3</td>\n",
       "    </tr>\n",
       "    <tr>\n",
       "      <th>...</th>\n",
       "      <td>...</td>\n",
       "      <td>...</td>\n",
       "      <td>...</td>\n",
       "      <td>...</td>\n",
       "      <td>...</td>\n",
       "      <td>...</td>\n",
       "      <td>...</td>\n",
       "      <td>...</td>\n",
       "      <td>...</td>\n",
       "      <td>...</td>\n",
       "      <td>...</td>\n",
       "    </tr>\n",
       "    <tr>\n",
       "      <th>9825</th>\n",
       "      <td>2021-03-31</td>\n",
       "      <td>The United States vs. Billie Holiday</td>\n",
       "      <td>Billie Holiday spent much of her career being ...</td>\n",
       "      <td>13.354</td>\n",
       "      <td>152</td>\n",
       "      <td>6.7</td>\n",
       "      <td>en</td>\n",
       "      <td>Drama</td>\n",
       "      <td>https://image.tmdb.org/t/p/original/vEzkxuE2sJ...</td>\n",
       "      <td>2021</td>\n",
       "      <td>3</td>\n",
       "    </tr>\n",
       "    <tr>\n",
       "      <th>9825</th>\n",
       "      <td>2021-03-31</td>\n",
       "      <td>The United States vs. Billie Holiday</td>\n",
       "      <td>Billie Holiday spent much of her career being ...</td>\n",
       "      <td>13.354</td>\n",
       "      <td>152</td>\n",
       "      <td>6.7</td>\n",
       "      <td>en</td>\n",
       "      <td>History</td>\n",
       "      <td>https://image.tmdb.org/t/p/original/vEzkxuE2sJ...</td>\n",
       "      <td>2021</td>\n",
       "      <td>3</td>\n",
       "    </tr>\n",
       "    <tr>\n",
       "      <th>9826</th>\n",
       "      <td>1984-09-23</td>\n",
       "      <td>Threads</td>\n",
       "      <td>Documentary style account of a nuclear holocau...</td>\n",
       "      <td>13.354</td>\n",
       "      <td>186</td>\n",
       "      <td>7.8</td>\n",
       "      <td>en</td>\n",
       "      <td>War</td>\n",
       "      <td>https://image.tmdb.org/t/p/original/lBhU4U9Eeh...</td>\n",
       "      <td>1984</td>\n",
       "      <td>9</td>\n",
       "    </tr>\n",
       "    <tr>\n",
       "      <th>9826</th>\n",
       "      <td>1984-09-23</td>\n",
       "      <td>Threads</td>\n",
       "      <td>Documentary style account of a nuclear holocau...</td>\n",
       "      <td>13.354</td>\n",
       "      <td>186</td>\n",
       "      <td>7.8</td>\n",
       "      <td>en</td>\n",
       "      <td>Drama</td>\n",
       "      <td>https://image.tmdb.org/t/p/original/lBhU4U9Eeh...</td>\n",
       "      <td>1984</td>\n",
       "      <td>9</td>\n",
       "    </tr>\n",
       "    <tr>\n",
       "      <th>9826</th>\n",
       "      <td>1984-09-23</td>\n",
       "      <td>Threads</td>\n",
       "      <td>Documentary style account of a nuclear holocau...</td>\n",
       "      <td>13.354</td>\n",
       "      <td>186</td>\n",
       "      <td>7.8</td>\n",
       "      <td>en</td>\n",
       "      <td>Science Fiction</td>\n",
       "      <td>https://image.tmdb.org/t/p/original/lBhU4U9Eeh...</td>\n",
       "      <td>1984</td>\n",
       "      <td>9</td>\n",
       "    </tr>\n",
       "  </tbody>\n",
       "</table>\n",
       "<p>25670 rows × 11 columns</p>\n",
       "</div>"
      ],
      "text/plain": [
       "     Release_Date                                 Title  \\\n",
       "0      2021-12-15               Spider-Man: No Way Home   \n",
       "0      2021-12-15               Spider-Man: No Way Home   \n",
       "0      2021-12-15               Spider-Man: No Way Home   \n",
       "1      2022-03-01                            The Batman   \n",
       "1      2022-03-01                            The Batman   \n",
       "...           ...                                   ...   \n",
       "9825   2021-03-31  The United States vs. Billie Holiday   \n",
       "9825   2021-03-31  The United States vs. Billie Holiday   \n",
       "9826   1984-09-23                               Threads   \n",
       "9826   1984-09-23                               Threads   \n",
       "9826   1984-09-23                               Threads   \n",
       "\n",
       "                                               Overview  Popularity  \\\n",
       "0     Peter Parker is unmasked and no longer able to...    5083.954   \n",
       "0     Peter Parker is unmasked and no longer able to...    5083.954   \n",
       "0     Peter Parker is unmasked and no longer able to...    5083.954   \n",
       "1     In his second year of fighting crime, Batman u...    3827.658   \n",
       "1     In his second year of fighting crime, Batman u...    3827.658   \n",
       "...                                                 ...         ...   \n",
       "9825  Billie Holiday spent much of her career being ...      13.354   \n",
       "9825  Billie Holiday spent much of her career being ...      13.354   \n",
       "9826  Documentary style account of a nuclear holocau...      13.354   \n",
       "9826  Documentary style account of a nuclear holocau...      13.354   \n",
       "9826  Documentary style account of a nuclear holocau...      13.354   \n",
       "\n",
       "      Vote_Count  Vote_Average Original_Language            Genre  \\\n",
       "0           8940           8.3                en           Action   \n",
       "0           8940           8.3                en        Adventure   \n",
       "0           8940           8.3                en  Science Fiction   \n",
       "1           1151           8.1                en            Crime   \n",
       "1           1151           8.1                en          Mystery   \n",
       "...          ...           ...               ...              ...   \n",
       "9825         152           6.7                en            Drama   \n",
       "9825         152           6.7                en          History   \n",
       "9826         186           7.8                en              War   \n",
       "9826         186           7.8                en            Drama   \n",
       "9826         186           7.8                en  Science Fiction   \n",
       "\n",
       "                                             Poster_Url  year  month  \n",
       "0     https://image.tmdb.org/t/p/original/1g0dhYtq4i...  2021     12  \n",
       "0     https://image.tmdb.org/t/p/original/1g0dhYtq4i...  2021     12  \n",
       "0     https://image.tmdb.org/t/p/original/1g0dhYtq4i...  2021     12  \n",
       "1     https://image.tmdb.org/t/p/original/74xTEgt7R3...  2022      3  \n",
       "1     https://image.tmdb.org/t/p/original/74xTEgt7R3...  2022      3  \n",
       "...                                                 ...   ...    ...  \n",
       "9825  https://image.tmdb.org/t/p/original/vEzkxuE2sJ...  2021      3  \n",
       "9825  https://image.tmdb.org/t/p/original/vEzkxuE2sJ...  2021      3  \n",
       "9826  https://image.tmdb.org/t/p/original/lBhU4U9Eeh...  1984      9  \n",
       "9826  https://image.tmdb.org/t/p/original/lBhU4U9Eeh...  1984      9  \n",
       "9826  https://image.tmdb.org/t/p/original/lBhU4U9Eeh...  1984      9  \n",
       "\n",
       "[25670 rows x 11 columns]"
      ]
     },
     "execution_count": 16,
     "metadata": {},
     "output_type": "execute_result"
    }
   ],
   "source": [
    "movies_genres = data.explode(\"Genre\")\n",
    "movies_genres"
   ]
  },
  {
   "cell_type": "code",
   "execution_count": 17,
   "id": "1ad45362",
   "metadata": {},
   "outputs": [
    {
     "data": {
      "image/png": "[encoded data removed]",
      "text/plain": [
       "<Figure size 1800x1080 with 1 Axes>"
      ]
     },
     "metadata": {
      "needs_background": "light"
     },
     "output_type": "display_data"
    }
   ],
   "source": [
    "plt.figure(figsize=(25,15))\n",
    "sns.countplot(x=movies_genres[\"Genre\"], order= movies_genres['Genre'].value_counts(ascending=False).index , palette='BuGn_r')\n",
    "plt.xticks(fontsize=12)\n",
    "plt.yticks(fontsize=15)\n",
    "plt.ylabel(\"Number of movies\",fontsize=15)\n",
    "plt.xlabel(\"Genre\",fontsize=15);"
   ]
  },
  {
   "cell_type": "markdown",
   "id": "c898f402",
   "metadata": {},
   "source": [
    "### -The Genre of most movies is Drama with over 3700 movies."
   ]
  },
  {
   "cell_type": "raw",
   "id": "0e48a7f6",
   "metadata": {},
   "source": []
  },
  {
   "cell_type": "markdown",
   "id": "4cc735aa",
   "metadata": {},
   "source": [
    "## What is the Genre of the highest rated movies?"
   ]
  },
  {
   "cell_type": "code",
   "execution_count": 28,
   "id": "4e969628",
   "metadata": {},
   "outputs": [
    {
     "data": {
      "image/png": "[encoded data removed]",
      "text/plain": [
       "<Figure size 1800x1080 with 1 Axes>"
      ]
     },
     "metadata": {
      "needs_background": "light"
     },
     "output_type": "display_data"
    }
   ],
   "source": [
    "Order = movies_genres.groupby([\"Genre\"])['Vote_Average'].median().reset_index().sort_values('Vote_Average')\n",
    "plt.figure(figsize=(25,15))\n",
    "sns.barplot(x= \"Genre\", y= \"Vote_Average\" ,data= movies_genres, palette='Blues', order=Order['Genre'])\n",
    "plt.xticks(fontsize=12)\n",
    "plt.yticks(fontsize=15)\n",
    "plt.ylabel(\"Vote Average\",fontsize=15)\n",
    "plt.xlabel(\"Genre\",fontsize=15);"
   ]
  },
  {
   "cell_type": "markdown",
   "id": "da047b8b",
   "metadata": {},
   "source": [
    "### -Looks like War, Music, Animation and history are the highest rated movies."
   ]
  },
  {
   "cell_type": "raw",
   "id": "4df5f3d8",
   "metadata": {},
   "source": []
  },
  {
   "cell_type": "markdown",
   "id": "84cf35dc",
   "metadata": {},
   "source": [
    "## what is the most popular movie and what's it's Genre?"
   ]
  },
  {
   "cell_type": "code",
   "execution_count": 20,
   "id": "fecc6b24",
   "metadata": {},
   "outputs": [
    {
     "data": {
      "text/plain": [
       "count    9790.000000\n",
       "mean       40.239416\n",
       "std       108.997861\n",
       "min        13.354000\n",
       "25%        16.121500\n",
       "50%        21.147000\n",
       "75%        35.066500\n",
       "max      5083.954000\n",
       "Name: Popularity, dtype: float64"
      ]
     },
     "execution_count": 20,
     "metadata": {},
     "output_type": "execute_result"
    }
   ],
   "source": [
    "data['Popularity'].describe()"
   ]
  },
  {
   "cell_type": "code",
   "execution_count": 21,
   "id": "2d0d4be1",
   "metadata": {},
   "outputs": [
    {
     "data": {
      "text/html": [
       "<div>\n",
       "<style scoped>\n",
       "    .dataframe tbody tr th:only-of-type {\n",
       "        vertical-align: middle;\n",
       "    }\n",
       "\n",
       "    .dataframe tbody tr th {\n",
       "        vertical-align: top;\n",
       "    }\n",
       "\n",
       "    .dataframe thead th {\n",
       "        text-align: right;\n",
       "    }\n",
       "</style>\n",
       "<table border=\"1\" class=\"dataframe\">\n",
       "  <thead>\n",
       "    <tr style=\"text-align: right;\">\n",
       "      <th></th>\n",
       "      <th>Title</th>\n",
       "      <th>Popularity</th>\n",
       "      <th>Genre</th>\n",
       "    </tr>\n",
       "  </thead>\n",
       "  <tbody>\n",
       "    <tr>\n",
       "      <th>0</th>\n",
       "      <td>Spider-Man: No Way Home</td>\n",
       "      <td>5083.954</td>\n",
       "      <td>[Action, Adventure, Science Fiction]</td>\n",
       "    </tr>\n",
       "    <tr>\n",
       "      <th>1</th>\n",
       "      <td>The Batman</td>\n",
       "      <td>3827.658</td>\n",
       "      <td>[Crime, Mystery, Thriller]</td>\n",
       "    </tr>\n",
       "    <tr>\n",
       "      <th>2</th>\n",
       "      <td>No Exit</td>\n",
       "      <td>2618.087</td>\n",
       "      <td>[Thriller]</td>\n",
       "    </tr>\n",
       "    <tr>\n",
       "      <th>3</th>\n",
       "      <td>Encanto</td>\n",
       "      <td>2402.201</td>\n",
       "      <td>[Animation, Comedy, Family, Fantasy]</td>\n",
       "    </tr>\n",
       "    <tr>\n",
       "      <th>4</th>\n",
       "      <td>The King's Man</td>\n",
       "      <td>1895.511</td>\n",
       "      <td>[Action, Adventure, Thriller, War]</td>\n",
       "    </tr>\n",
       "    <tr>\n",
       "      <th>...</th>\n",
       "      <td>...</td>\n",
       "      <td>...</td>\n",
       "      <td>...</td>\n",
       "    </tr>\n",
       "    <tr>\n",
       "      <th>9822</th>\n",
       "      <td>Badlands</td>\n",
       "      <td>13.357</td>\n",
       "      <td>[Drama, Crime]</td>\n",
       "    </tr>\n",
       "    <tr>\n",
       "      <th>9823</th>\n",
       "      <td>Violent Delights</td>\n",
       "      <td>13.356</td>\n",
       "      <td>[Horror]</td>\n",
       "    </tr>\n",
       "    <tr>\n",
       "      <th>9824</th>\n",
       "      <td>The Offering</td>\n",
       "      <td>13.355</td>\n",
       "      <td>[Mystery, Thriller, Horror]</td>\n",
       "    </tr>\n",
       "    <tr>\n",
       "      <th>9825</th>\n",
       "      <td>The United States vs. Billie Holiday</td>\n",
       "      <td>13.354</td>\n",
       "      <td>[Music, Drama, History]</td>\n",
       "    </tr>\n",
       "    <tr>\n",
       "      <th>9826</th>\n",
       "      <td>Threads</td>\n",
       "      <td>13.354</td>\n",
       "      <td>[War, Drama, Science Fiction]</td>\n",
       "    </tr>\n",
       "  </tbody>\n",
       "</table>\n",
       "<p>9790 rows × 3 columns</p>\n",
       "</div>"
      ],
      "text/plain": [
       "                                     Title  Popularity  \\\n",
       "0                  Spider-Man: No Way Home    5083.954   \n",
       "1                               The Batman    3827.658   \n",
       "2                                  No Exit    2618.087   \n",
       "3                                  Encanto    2402.201   \n",
       "4                           The King's Man    1895.511   \n",
       "...                                    ...         ...   \n",
       "9822                              Badlands      13.357   \n",
       "9823                      Violent Delights      13.356   \n",
       "9824                          The Offering      13.355   \n",
       "9825  The United States vs. Billie Holiday      13.354   \n",
       "9826                               Threads      13.354   \n",
       "\n",
       "                                     Genre  \n",
       "0     [Action, Adventure, Science Fiction]  \n",
       "1               [Crime, Mystery, Thriller]  \n",
       "2                               [Thriller]  \n",
       "3     [Animation, Comedy, Family, Fantasy]  \n",
       "4       [Action, Adventure, Thriller, War]  \n",
       "...                                    ...  \n",
       "9822                        [Drama, Crime]  \n",
       "9823                              [Horror]  \n",
       "9824           [Mystery, Thriller, Horror]  \n",
       "9825               [Music, Drama, History]  \n",
       "9826         [War, Drama, Science Fiction]  \n",
       "\n",
       "[9790 rows x 3 columns]"
      ]
     },
     "execution_count": 21,
     "metadata": {},
     "output_type": "execute_result"
    }
   ],
   "source": [
    "data[[\"Title\",\"Popularity\", \"Genre\"]].sort_values(by=\"Popularity\", ascending=False)"
   ]
  },
  {
   "cell_type": "markdown",
   "id": "5f521a5d",
   "metadata": {},
   "source": [
    "### -Spider-Man: No Way Home is the most popular movie and it's Genre is (Action, Adventure, Science Fiction)."
   ]
  },
  {
   "cell_type": "code",
   "execution_count": null,
   "id": "2bba7f50",
   "metadata": {},
   "outputs": [],
   "source": []
  }
 ],
 "metadata": {
  "kernelspec": {
   "display_name": "Python 3",
   "language": "python",
   "name": "python3"
  },
  "language_info": {
   "codemirror_mode": {
    "name": "ipython",
    "version": 3
   },
   "file_extension": ".py",
   "mimetype": "text/x-python",
   "name": "python",
   "nbconvert_exporter": "python",
   "pygments_lexer": "ipython3",
   "version": "3.8.8"
  }
 },
 "nbformat": 4,
 "nbformat_minor": 5
}
